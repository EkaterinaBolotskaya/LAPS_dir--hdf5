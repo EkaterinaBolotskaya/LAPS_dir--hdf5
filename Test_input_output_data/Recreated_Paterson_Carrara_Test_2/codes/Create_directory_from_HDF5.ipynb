{
 "cells": [
  {
   "cell_type": "code",
   "execution_count": 7,
   "id": "96936f62-13fd-48b1-9915-991e5b4607f0",
   "metadata": {},
   "outputs": [],
   "source": [
    "import h5py\n",
    "import os\n",
    "import json\n",
    "import numpy as np\n",
    "\n",
    "# Path to the HDF5 file\n",
    "hdf5_file = \"HDF5_data.h5\"\n",
    "\n",
    "# Output directory to recreate the structure\n",
    "output_directory = \"Recreated_Directory\"\n",
    "\n",
    "# Function to create nested directories based on group structure\n",
    "def create_nested_directories(path):\n",
    "    if not os.path.exists(path):\n",
    "        os.makedirs(path)\n",
    "\n",
    "# Recursive function to handle groups and datasets\n",
    "def process_group(group, group_path):\n",
    "    create_nested_directories(group_path)\n",
    "\n",
    "    for name, item in group.items():\n",
    "        if isinstance(item, h5py.Dataset):\n",
    "            dataset_name = name\n",
    "            _, extension = os.path.splitext(dataset_name)\n",
    "            file_path = os.path.join(group_path, dataset_name)\n",
    "\n",
    "            if extension in [\".csv\", \".txt\", \".xls\", \".xlsx\"]:\n",
    "                data = item[()]\n",
    "                with open(file_path, \"wb\") as file:\n",
    "                    file.write(data)\n",
    "\n",
    "            elif extension in [\".jpg\", \".jpeg\", \".png\"]:\n",
    "                data = item[()]\n",
    "                with open(file_path, \"wb\") as file:\n",
    "                    file.write(data.tobytes())\n",
    "\n",
    "            else:\n",
    "                data = item[()]\n",
    "                with open(file_path, \"wb\") as file:\n",
    "                    file.write(data)\n",
    "\n",
    "        elif isinstance(item, h5py.Group):\n",
    "            sub_group_path = os.path.join(group_path, name)\n",
    "            process_group(item, sub_group_path)\n",
    "\n",
    "# Open HDF5 file in read mode\n",
    "with h5py.File(hdf5_file, \"r\") as f:\n",
    "    # Retrieve the metadata JSON from the attribute\n",
    "    metadata_str = f.attrs.get(\"Schema_json\", \"\")\n",
    "    metadata = json.loads(metadata_str)\n",
    "\n",
    "    # Recreate the directory structure\n",
    "    for group_name, group in f.items():\n",
    "        group_path = os.path.join(output_directory, group_name)\n",
    "        process_group(group, group_path)"
   ]
  },
  {
   "cell_type": "code",
   "execution_count": null,
   "id": "e59623cd-628c-46b9-ac97-c92e0e607648",
   "metadata": {},
   "outputs": [],
   "source": []
  }
 ],
 "metadata": {
  "kernelspec": {
   "display_name": "Python 3 (ipykernel)",
   "language": "python",
   "name": "python3"
  },
  "language_info": {
   "codemirror_mode": {
    "name": "ipython",
    "version": 3
   },
   "file_extension": ".py",
   "mimetype": "text/x-python",
   "name": "python",
   "nbconvert_exporter": "python",
   "pygments_lexer": "ipython3",
   "version": "3.10.9"
  }
 },
 "nbformat": 4,
 "nbformat_minor": 5
}
