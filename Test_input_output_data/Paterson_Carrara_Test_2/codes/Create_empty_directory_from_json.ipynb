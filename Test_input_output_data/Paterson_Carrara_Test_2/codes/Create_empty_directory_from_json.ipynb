{
 "cells": [
  {
   "cell_type": "code",
   "execution_count": 2,
   "id": "3f59c2b2-9e7d-42dc-b320-188e9f38a84d",
   "metadata": {},
   "outputs": [],
   "source": [
    "import os\n",
    "import json"
   ]
  },
  {
   "cell_type": "code",
   "execution_count": 3,
   "id": "de870a36-0c36-4cea-b0fe-d2071b2527d5",
   "metadata": {},
   "outputs": [],
   "source": [
    "# Directory creation function\n",
    "def create_directory(path):\n",
    "    if not os.path.exists(path):\n",
    "        os.makedirs(path)\n",
    "  "
   ]
  },
  {
   "cell_type": "code",
   "execution_count": 5,
   "id": "250e706e-fd11-418f-8d77-12fa080b9540",
   "metadata": {},
   "outputs": [
    {
     "name": "stdout",
     "output_type": "stream",
     "text": [
      "Paterson_Carrara_Test\\data\\datasets\\Time_Series\n",
      "Paterson_Carrara_Test\\data\\datasets\\Parameters\n",
      "Paterson_Carrara_Test\\data\\datasets\\Imaging\n",
      "Paterson_Carrara_Test\\data\\datasets\\Thin_Section\n",
      "Paterson_Carrara_Test\\data\\datasets\\EBSD\n"
     ]
    }
   ],
   "source": [
    "# Parse the JSON\n",
    "fdir = os.path.normpath(os.getcwd() + os.sep)\n",
    "scdir = '\\\\Paterson5_CarraraTestRun_new2.json'        # schema file name\n",
    "\n",
    "with open(fdir+scdir, 'r') as f:\n",
    "    json_data = json.load(f)\n",
    "json_data = json_data[\"object\"]\n",
    "\n",
    "# Define the parent directory\n",
    "parent_dir = 'Paterson_Carrara_Test'\n",
    "\n",
    "# Delete the parent directory if it exists\n",
    "if os.path.exists(parent_dir):\n",
    "    for root, dirs, files in os.walk(parent_dir, topdown=False):\n",
    "        for file in files:\n",
    "            os.remove(os.path.join(root, file))\n",
    "        for dir in dirs:\n",
    "            os.rmdir(os.path.join(root, dir))\n",
    "    os.rmdir(parent_dir)\n",
    "\n",
    "# Create directories for the first tier of subfields within \"object\"\n",
    "create_directory(parent_dir)\n",
    "\n",
    "if isinstance(json_data, dict):\n",
    "        for key, value in json_data.items():\n",
    "            sub_dir = os.path.join(parent_dir, key)\n",
    "            create_directory(sub_dir)\n",
    "            if key == \"data\" and isinstance(value, dict) and \"datasets\" in value:\n",
    "                datasets_dir = os.path.join(sub_dir, \"datasets\")\n",
    "                create_directory(datasets_dir)\n",
    "                if \"datasets\" in value:\n",
    "                    for dataset in value[\"datasets\"]:\n",
    "                            data_value = dataset.get(\"data\", \"\")\n",
    "                            dataset_id = dataset.get(\"id\", \"\")\n",
    "                            if data_value:\n",
    "                                if dataset_id:\n",
    "                                    dataset_subdir = os.path.join(datasets_dir, data_value.replace(\" \", \"_\") + \"_\" + dataset_id)\n",
    "                                else:\n",
    "                                    dataset_subdir = os.path.join(datasets_dir, data_value)\n",
    "                                create_directory(dataset_subdir)\n",
    "                                print(dataset_subdir)\n",
    "            elif isinstance(value, dict) and \"documents\" in value:\n",
    "                    documents_dir = os.path.join(sub_dir, \"documents\")\n",
    "                    create_directory(documents_dir)\n"
   ]
  },
  {
   "cell_type": "code",
   "execution_count": 26,
   "id": "0f152ecf-b338-4261-9a81-abf57d60626e",
   "metadata": {},
   "outputs": [],
   "source": []
  },
  {
   "cell_type": "code",
   "execution_count": null,
   "id": "10b252ce-98e3-4bc0-80e1-3fa4918093d6",
   "metadata": {},
   "outputs": [],
   "source": []
  }
 ],
 "metadata": {
  "kernelspec": {
   "display_name": "Python 3 (ipykernel)",
   "language": "python",
   "name": "python3"
  },
  "language_info": {
   "codemirror_mode": {
    "name": "ipython",
    "version": 3
   },
   "file_extension": ".py",
   "mimetype": "text/x-python",
   "name": "python",
   "nbconvert_exporter": "python",
   "pygments_lexer": "ipython3",
   "version": "3.10.9"
  }
 },
 "nbformat": 4,
 "nbformat_minor": 5
}
